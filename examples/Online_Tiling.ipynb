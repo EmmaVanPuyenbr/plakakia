{
 "cells": [
  {
   "cell_type": "code",
   "execution_count": null,
   "id": "bb52367a-1951-4fda-9380-ecdac09a4e74",
   "metadata": {
    "tags": []
   },
   "outputs": [],
   "source": [
    "%reset -f\n",
    "%load_ext autoreload\n",
    "%autoreload 2\n",
    "%matplotlib inline"
   ]
  },
  {
   "cell_type": "code",
   "execution_count": null,
   "id": "2df2f11e",
   "metadata": {},
   "outputs": [],
   "source": [
    "from utils_tiling import tile_image\n",
    "import yaml\n",
    "from settings import Settings\n",
    "import cv2"
   ]
  },
  {
   "cell_type": "code",
   "execution_count": null,
   "id": "7eee8e4c",
   "metadata": {},
   "outputs": [],
   "source": [
    "# Read the settings from the config.yaml file\n",
    "with open('config.yaml', 'r', encoding='utf-8') as f:\n",
    "    config = yaml.load(f, Loader=yaml.FullLoader)\n",
    "\n",
    "# Create a settings object\n",
    "settings = Settings(**config)"
   ]
  },
  {
   "cell_type": "code",
   "execution_count": null,
   "id": "d6c74edf-258a-447e-8b07-80705a7d1cd9",
   "metadata": {},
   "outputs": [],
   "source": [
    "img = cv2.imread(settings.input_images[0])"
   ]
  },
  {
   "cell_type": "code",
   "execution_count": null,
   "id": "7e5b4997",
   "metadata": {},
   "outputs": [],
   "source": [
    "tile_image(img, tile_size=162, step_size=30)[0].shape"
   ]
  }
 ],
 "metadata": {
  "kernelspec": {
   "display_name": "plakakia",
   "language": "python",
   "name": "python3"
  },
  "language_info": {
   "codemirror_mode": {
    "name": "ipython",
    "version": 3
   },
   "file_extension": ".py",
   "mimetype": "text/x-python",
   "name": "python",
   "nbconvert_exporter": "python",
   "pygments_lexer": "ipython3",
   "version": "3.10.10"
  }
 },
 "nbformat": 4,
 "nbformat_minor": 5
}
